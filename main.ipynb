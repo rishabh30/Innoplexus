{
 "cells": [
  {
   "cell_type": "code",
   "execution_count": 1,
   "metadata": {
    "colab": {
     "base_uri": "https://localhost:8080/",
     "height": 34
    },
    "colab_type": "code",
    "id": "n_JHZGS1m5VO",
    "outputId": "ac5fcbb9-f61a-43fb-e65a-94205f2f1534"
   },
   "outputs": [
    {
     "name": "stderr",
     "output_type": "stream",
     "text": [
      "Using TensorFlow backend.\n"
     ]
    }
   ],
   "source": [
    "import torch \n",
    "import pandas as pd\n",
    "import keras\n",
    "import re\n",
    "import tensorflow as tf\n",
    "import numpy as np\n",
    "import os\n",
    "import time\n",
    "import datetime\n",
    "from tensorflow.contrib import learn\n",
    "import sys\n",
    "from IPython import embed\n",
    "import csv\n",
    "import random"
   ]
  },
  {
   "cell_type": "code",
   "execution_count": 0,
   "metadata": {
    "colab": {},
    "colab_type": "code",
    "id": "ijFDo3PgnGM7"
   },
   "outputs": [],
   "source": [
    "loc =  (r'C:\\Users\\Rishabh Singhal\\Desktop\\python_code\\innoplexus_hackathon\\train_F3WbcTw.csv') \n",
    "#loc = (r'/content/innoplexus_hackathon/train_F3WbcTw.csv')\n",
    "df = pd.read_csv (loc,sep =',')\n",
    "df.head()\n",
    "len(df)"
   ]
  },
  {
   "cell_type": "code",
   "execution_count": 0,
   "metadata": {
    "colab": {},
    "colab_type": "code",
    "id": "5kvyaF2CnHZ3"
   },
   "outputs": [],
   "source": [
    "loc_test =  (r'C:\\Users\\Rishabh Singhal\\Desktop\\python_code\\innoplexus_hackathon\\train_F3WbcTw.csv') \n",
    "#loc_test = (r'/content/innoplexus_hackathon/test_tOlRoBf.csv')\n",
    "df_test = pd.read_csv (loc_test,sep =',')\n",
    "print(df_test.head())\n",
    "len(df_test)"
   ]
  },
  {
   "cell_type": "code",
   "execution_count": 0,
   "metadata": {
    "colab": {},
    "colab_type": "code",
    "id": "xOlIOb8tnHu4"
   },
   "outputs": [],
   "source": [
    "def separate_dataset(filename):\n",
    "    good_out = open(\"good_\"+filename,\"w+\");\n",
    "    bad_out  = open(\"bad_\"+filename,\"w+\");\n",
    "\n",
    "    seen = 1\n",
    "    with open(filename,'r') as f:\n",
    "        reader = csv.reader(f)\n",
    "        reader.next()\n",
    "\n",
    "        for line in reader:\n",
    "            seen +=1\n",
    "            sentiment = line[1]\n",
    "            sentence = line[3]\n",
    "\n",
    "            if (sentiment == \"0\"):\n",
    "                bad_out.write(sentence+\"\\n\")\n",
    "            else:\n",
    "                good_out.write(sentence+\"\\n\")\n",
    "\n",
    "            if (seen%10000==0):\n",
    "                print (seen)\n",
    "\n",
    "    good_out.close()\n",
    "    bad_out.close()\n"
   ]
  },
  {
   "cell_type": "code",
   "execution_count": 0,
   "metadata": {
    "colab": {},
    "colab_type": "code",
    "id": "rg__EXaDnHoF"
   },
   "outputs": [],
   "source": [
    "#Load Dataset\n",
    "def get_dataset(goodfile,badfile,neutralfile,randomize=True):\n",
    "    good_x = goodfile\n",
    "    good_x = [s.strip() for s in good_x]\n",
    "    bad_x = badfile\n",
    "    bad_x  = [s.strip() for s in bad_x]\n",
    "    neutral_x = neutralfile\n",
    "    neutral_x  = [s.strip() for s in neutral_x]\n",
    "\n",
    "    if (randomize):\n",
    "        random.shuffle(bad_x)\n",
    "        random.shuffle(good_x)\n",
    "        random.shuffle(neutral_x)\n",
    "\n",
    "    good_x = good_x[:]\n",
    "    bad_x = bad_x[:]\n",
    "    neutral_x = neutral_x[:]\n",
    "\n",
    "    x = good_x + bad_x + neutral_x\n",
    "    x = [clean_str(s) for s in x]\n",
    "\n",
    "\n",
    "    positive_labels = [[0, 1, 0] for _ in good_x]\n",
    "    negative_labels = [[1, 0, 0] for _ in bad_x]\n",
    "    neutral_labels = [[0, 0, 1] for _ in neutral_x]\n",
    "    y = np.concatenate([positive_labels, negative_labels, neutral_labels], 0)\n",
    "    return [x,y]\n",
    "\n",
    "\n",
    "\n",
    "#Clean Dataset\n",
    "def clean_str(string):\n",
    "\n",
    "\n",
    "    #EMOJIS\n",
    "    string = re.sub(r\":\\)\",\"emojihappy1\",string)\n",
    "    string = re.sub(r\":P\",\"emojihappy2\",string)\n",
    "    string = re.sub(r\":p\",\"emojihappy3\",string)\n",
    "    string = re.sub(r\":>\",\"emojihappy4\",string)\n",
    "    string = re.sub(r\":3\",\"emojihappy5\",string)\n",
    "    string = re.sub(r\":D\",\"emojihappy6\",string)\n",
    "    string = re.sub(r\" XD \",\"emojihappy7\",string)\n",
    "    string = re.sub(r\" <3 \",\"emojihappy8\",string)\n",
    "\n",
    "    string = re.sub(r\":\\(\",\"emojisad9\",string)\n",
    "    string = re.sub(r\":<\",\"emojisad10\",string)\n",
    "    string = re.sub(r\":<\",\"emojisad11\",string)\n",
    "    string = re.sub(r\">:\\(\",\"emojisad12\",string)\n",
    "\n",
    "    #MENTIONS \"(@)\\w+\"\n",
    "    string = re.sub(r\"(@)\\w+\",\"mentiontoken\",string)\n",
    "    \n",
    "    #WEBSITES\n",
    "    string = re.sub(r\"http(s)*:(\\S)*\",\"linktoken\",string)\n",
    "\n",
    "    #STRANGE UNICODE \\x...\n",
    "    string = re.sub(r\"\\\\x(\\S)*\",\"\",string)\n",
    "\n",
    "    #General Cleanup and Symbols\n",
    "    string = re.sub(r\"[^A-Za-z0-9(),!?\\'\\`]\", \" \", string)\n",
    "    string = re.sub(r\"\\'s\", \" \\'s\", string)\n",
    "    string = re.sub(r\"\\'ve\", \" \\'ve\", string)\n",
    "    string = re.sub(r\"n\\'t\", \" n\\'t\", string)\n",
    "    string = re.sub(r\"\\'re\", \" \\'re\", string)\n",
    "    string = re.sub(r\"\\'d\", \" \\'d\", string)\n",
    "    string = re.sub(r\"\\'ll\", \" \\'ll\", string)\n",
    "    string = re.sub(r\",\", \" , \", string)\n",
    "    string = re.sub(r\"!\", \" ! \", string)\n",
    "    string = re.sub(r\"\\(\", \" \\( \", string)\n",
    "    string = re.sub(r\"\\)\", \" \\) \", string)\n",
    "    string = re.sub(r\"\\?\", \" \\? \", string)\n",
    "    string = re.sub(r\"\\s{2,}\", \" \", string)\n",
    "\n",
    "    return string.strip().lower()\n",
    "\n",
    "\n",
    "\n",
    "#Generate random batches\n",
    "def gen_batch(data, batch_size, num_epochs, shuffle=True):\n",
    "    \"\"\"\n",
    "    Generates a batch iterator for a dataset.\n",
    "    \"\"\"\n",
    "    data = np.array(data)\n",
    "    data_size = len(data)\n",
    "    num_batches_per_epoch = int((len(data)-1)/batch_size) + 1\n",
    "    for epoch in range(num_epochs):\n",
    "        # Shuffle the data at each epoch\n",
    "        if shuffle:\n",
    "            shuffle_indices = np.random.permutation(np.arange(data_size))\n",
    "            shuffled_data = data[shuffle_indices]\n",
    "        else:\n",
    "            shuffled_data = data\n",
    "        for batch_num in range(num_batches_per_epoch):\n",
    "            start_index = batch_num * batch_size\n",
    "            end_index = min((batch_num + 1) * batch_size, data_size)\n",
    "            yield shuffled_data[start_index:end_index]\n",
    "\n",
    "#if __name__ == \"__main__\":\n",
    " #   separate_dataset(\"small.txt\");"
   ]
  },
  {
   "cell_type": "code",
   "execution_count": 0,
   "metadata": {
    "colab": {},
    "colab_type": "code",
    "id": "KP3RM9-RnHi7"
   },
   "outputs": [],
   "source": [
    "dev_size = .01\n",
    "\n",
    "# Model Hyperparameters\n",
    "embedding_dim  = 32     #128\n",
    "max_seq_legth = 70 \n",
    "filter_sizes = [3,4,5]  #3\n",
    "num_filters = 32\n",
    "dropout_prob = 0.5 #0.5\n",
    "l2_reg_lambda = 0.0\n",
    "#use_glove = True \n",
    "\n",
    "# Training parameters\n",
    "batch_size = 128\n",
    "num_epochs = 5 #200\n",
    "evaluate_every = 100000 #100\n",
    "checkpoint_every = 50 #100\n",
    "num_checkpoints = 200 #Checkpoints to store\n",
    "\n",
    "\n",
    "# Misc Parameters\n",
    "allow_soft_placement = True\n",
    "log_device_placement = False"
   ]
  },
  {
   "cell_type": "code",
   "execution_count": 0,
   "metadata": {
    "colab": {},
    "colab_type": "code",
    "id": "Vw8dYQFwnHgv"
   },
   "outputs": [],
   "source": [
    "p = df.loc[df['sentiment']==0]\n",
    "n = df.loc[df['sentiment']==1]\n",
    "o = df.loc[df['sentiment']==2]"
   ]
  },
  {
   "cell_type": "code",
   "execution_count": 0,
   "metadata": {
    "colab": {},
    "colab_type": "code",
    "id": "V6-MzpvrneqK"
   },
   "outputs": [],
   "source": [
    "filename = df['text']\n",
    "goodfile = df.loc[df['sentiment']==1]\n",
    "goodfile = goodfile['text']\n",
    "badfile =df.loc[df['sentiment']==0]\n",
    "badfile = badfile['text']\n",
    "neutralfile = df.loc[df['sentiment']==2]\n",
    "neutralfile = neutralfile['text']"
   ]
  },
  {
   "cell_type": "code",
   "execution_count": 0,
   "metadata": {
    "colab": {},
    "colab_type": "code",
    "id": "wIiBwGdrnenx"
   },
   "outputs": [],
   "source": [
    "x_text, y = get_dataset((goodfile), (badfile), (neutralfile))"
   ]
  },
  {
   "cell_type": "code",
   "execution_count": 0,
   "metadata": {
    "colab": {},
    "colab_type": "code",
    "id": "T5HYk8AmnelH"
   },
   "outputs": [],
   "source": [
    "max_document_length = max([len(x.split(\" \")) for x in x_text])"
   ]
  },
  {
   "cell_type": "code",
   "execution_count": 0,
   "metadata": {
    "colab": {},
    "colab_type": "code",
    "id": "NcZUMgBBneil"
   },
   "outputs": [],
   "source": [
    "vocab_processor = learn.preprocessing.VocabularyProcessor(max_document_length)\n",
    "x = np.array(list(vocab_processor.fit_transform(x_text)))"
   ]
  },
  {
   "cell_type": "code",
   "execution_count": 0,
   "metadata": {
    "colab": {},
    "colab_type": "code",
    "id": "oZ97NUvynef2"
   },
   "outputs": [],
   "source": [
    "# Randomly shuffle data\n",
    "np.random.seed(42)\n",
    "shuffle_indices = np.random.permutation(np.arange(len(y)))\n",
    "x_shuffled = x[shuffle_indices]\n",
    "y_shuffled = y[shuffle_indices]"
   ]
  },
  {
   "cell_type": "code",
   "execution_count": 0,
   "metadata": {
    "colab": {},
    "colab_type": "code",
    "id": "HLqFJQmDno3M"
   },
   "outputs": [],
   "source": [
    "x_batc = df_test['text']\n",
    "y_batc = [[0,0,0]]*len(x_batc)"
   ]
  },
  {
   "cell_type": "code",
   "execution_count": 0,
   "metadata": {
    "colab": {},
    "colab_type": "code",
    "id": "GhClV2Orno9M"
   },
   "outputs": [],
   "source": [
    "vocab_processor = learn.preprocessing.VocabularyProcessor(max_document_length)\n",
    "x12 = np.array(list(vocab_processor.fit_transform(x_batc)))\n",
    "y_batc1 = np.array(y_batc)"
   ]
  },
  {
   "cell_type": "code",
   "execution_count": 0,
   "metadata": {
    "colab": {},
    "colab_type": "code",
    "id": "NUUnonpFnpB4"
   },
   "outputs": [],
   "source": [
    "x_train, x_dev = x_shuffled[:], x12[:]\n",
    "y_train, y_dev = y_shuffled[:], y_batc1[:]\n",
    "print(\"Vocabulary Size: {:d}\".format(len(vocab_processor.vocabulary_)))\n",
    "print(\"Train/Dev : {:d}/{:d}\".format(len(y_train), len(y_dev)))\n",
    "#embed()"
   ]
  },
  {
   "cell_type": "code",
   "execution_count": 0,
   "metadata": {
    "colab": {},
    "colab_type": "code",
    "id": "-WVdNGAOnxay"
   },
   "outputs": [],
   "source": [
    "class LSTM_CNN(object):\n",
    "    def __init__(self, sequence_length, num_classes, vocab_size, embedding_size, filter_sizes, num_filters, l2_reg_lambda=0.0,num_hidden=100):\n",
    "\n",
    "        # PLACEHOLDERS\n",
    "        self.input_x = tf.placeholder(tf.int32, [None, sequence_length], name=\"input_x\")    # X - The Data\n",
    "        self.input_y = tf.placeholder(tf.float32, [None, num_classes], name=\"input_y\")      # Y - The Lables\n",
    "        self.dropout_keep_prob = tf.placeholder(tf.float32, name=\"dropout_keep_prob\")       # Dropout\n",
    "\n",
    "        \n",
    "        l2_loss = tf.constant(0.0) # Keeping track of l2 regularization loss\n",
    "\n",
    "        #1. EMBEDDING LAYER ################################################################\n",
    "        with tf.device('/cpu:0'), tf.name_scope(\"embedding\"):\n",
    "            self.W = tf.Variable(tf.random_uniform([vocab_size, embedding_size], -1.0, 1.0),name=\"W\")\n",
    "            self.embedded_chars = tf.nn.embedding_lookup(self.W, self.input_x)\n",
    "            #self.embedded_chars_expanded = tf.expand_dims(self.embedded_chars, -1)\n",
    "\n",
    "\n",
    "        #2. LSTM LAYER ######################################################################\n",
    "        self.lstm_cell = tf.contrib.rnn.LSTMCell(32,state_is_tuple=True)\n",
    "        #self.h_drop_exp = tf.expand_dims(self.h_drop,-1)\n",
    "        self.lstm_out,self.lstm_state = tf.nn.dynamic_rnn(self.lstm_cell,self.embedded_chars,dtype=tf.float32)\n",
    "        #embed()\n",
    "\n",
    "        self.lstm_out_expanded = tf.expand_dims(self.lstm_out, -1)\n",
    "\n",
    "        #2. CONVOLUTION LAYER + MAXPOOLING LAYER (per filter) ###############################\n",
    "        pooled_outputs = []\n",
    "        for i, filter_size in enumerate(filter_sizes):\n",
    "            with tf.name_scope(\"conv-maxpool-%s\" % filter_size):\n",
    "                # CONVOLUTION LAYER\n",
    "                filter_shape = [filter_size, embedding_size, 1, num_filters]\n",
    "                W = tf.Variable(tf.truncated_normal(filter_shape, stddev=0.1), name=\"W\") \n",
    "                b = tf.Variable(tf.constant(0.1, shape=[num_filters]), name=\"b\")\n",
    "                conv = tf.nn.conv2d(self.lstm_out_expanded, W,strides=[1, 1, 1, 1],padding=\"VALID\",name=\"conv\")\n",
    "                # NON-LINEARITY\n",
    "                h = tf.nn.relu(tf.nn.bias_add(conv, b), name=\"relu\")\n",
    "                # MAXPOOLING\n",
    "                pooled = tf.nn.max_pool(h, ksize=[1, sequence_length - filter_size + 1, 1, 1], strides=[1, 1, 1, 1], padding='VALID', name=\"pool\")\n",
    "                pooled_outputs.append(pooled)\n",
    "\n",
    "        # COMBINING POOLED FEATURES\n",
    "        num_filters_total = num_filters * len(filter_sizes)\n",
    "        self.h_pool = tf.concat(pooled_outputs, 3)\n",
    "        self.h_pool_flat = tf.reshape(self.h_pool, [-1, num_filters_total])\n",
    "        \n",
    "        # #3. DROPOUT LAYER ###################################################################\n",
    "        with tf.name_scope(\"dropout\"):\n",
    "            self.h_drop = tf.nn.dropout(self.h_pool_flat, self.dropout_keep_prob)\n",
    "\n",
    "        # Final (unnormalized) scores and predictions\n",
    "        with tf.name_scope(\"output\"):\n",
    "            W = tf.get_variable(\n",
    "                \"W\",\n",
    "                shape=[num_filters_total, num_classes],\n",
    "                initializer=tf.contrib.layers.xavier_initializer())\n",
    "            b = tf.Variable(tf.constant(0.1, shape=[num_classes]), name=\"b\")\n",
    "            l2_loss += tf.nn.l2_loss(W)\n",
    "            l2_loss += tf.nn.l2_loss(b)\n",
    "            self.scores = tf.nn.xw_plus_b(self.h_drop, W, b, name=\"scores\")\n",
    "            self.predictions = tf.argmax(self.scores, 1, name=\"predictions\")\n",
    "\n",
    "        with tf.name_scope(\"predictions\"):\n",
    "            predictions = tf.argmax(self.scores, 1, name=\"predictions\")\n",
    "            self.predictions = tf.argmax(self.scores, 1, name=\"predictions\")\n",
    "\n",
    "\n",
    "        # CalculateMean cross-entropy loss\n",
    "        with tf.name_scope(\"loss\"):\n",
    "            losses = tf.nn.softmax_cross_entropy_with_logits(logits=self.scores, labels=self.input_y)\n",
    "            self.loss = tf.reduce_mean(losses) + l2_reg_lambda * l2_loss\n",
    "\n",
    "        # Accuracy\n",
    "        with tf.name_scope(\"accuracy\"):\n",
    "            correct_predictions = tf.equal(self.predictions, tf.argmax(self.input_y, 1))\n",
    "            self.accuracy = tf.reduce_mean(tf.cast(correct_predictions, \"float\"), name=\"accuracy\")\n",
    "\n",
    "\n",
    "        print (\"(!!) LOADED LSTM-CNN! :)\")"
   ]
  },
  {
   "cell_type": "code",
   "execution_count": 0,
   "metadata": {
    "colab": {},
    "colab_type": "code",
    "id": "a2QPD8Kfnxel"
   },
   "outputs": [],
   "source": [
    "jjj2=[]\n",
    "# Training\n",
    "# ==================================================\n",
    "\n",
    "with tf.Graph().as_default():\n",
    "    session_conf = tf.ConfigProto(allow_soft_placement=True, log_device_placement=False)\n",
    "    sess = tf.Session(config=session_conf)\n",
    "    with sess.as_default():\n",
    "        #embed()\n",
    "        model = LSTM_CNN(x_train.shape[1],y_train.shape[1],len(vocab_processor.vocabulary_),embedding_dim,filter_sizes,num_filters,l2_reg_lambda)\n",
    "\n",
    "\n",
    "        # Define Training procedure\n",
    "        global_step = tf.Variable(0, name=\"global_step\", trainable=False)\n",
    "        optimizer = tf.train.AdamOptimizer(1e-3)\n",
    "        grads_and_vars = optimizer.compute_gradients(model.loss)\n",
    "        train_op = optimizer.apply_gradients(grads_and_vars, global_step=global_step)\n",
    "\n",
    "        # Keep track of gradient values and sparsity (optional)\n",
    "        grad_summaries = []\n",
    "        for g, v in grads_and_vars:\n",
    "            if g is not None:\n",
    "                grad_hist_summary = tf.summary.histogram(\"{}/grad/hist\".format(v.name), g)\n",
    "                sparsity_summary = tf.summary.scalar(\"{}/grad/sparsity\".format(v.name), tf.nn.zero_fraction(g))\n",
    "                grad_summaries.append(grad_hist_summary)\n",
    "                grad_summaries.append(sparsity_summary)\n",
    "        grad_summaries_merged = tf.summary.merge(grad_summaries)\n",
    "\n",
    "        # Output directory for models and summaries\n",
    "        timestamp = str(int(time.time()))\n",
    "        out_dir = os.path.abspath(os.path.join(os.path.curdir, \"runs\", timestamp))\n",
    "        print(\"Writing to {}\\n\".format(out_dir))\n",
    "\n",
    "        # Summaries for loss and accuracy\n",
    "        loss_summary = tf.summary.scalar(\"loss\", model.loss)\n",
    "        acc_summary = tf.summary.scalar(\"accuracy\", model.accuracy)\n",
    "\n",
    "        # Train Summaries\n",
    "        train_summary_op = tf.summary.merge([loss_summary, acc_summary, grad_summaries_merged])\n",
    "        train_summary_dir = os.path.join(out_dir, \"summaries\", \"train\")\n",
    "        train_summary_writer = tf.summary.FileWriter(train_summary_dir, sess.graph)\n",
    "\n",
    "        # Dev summaries\n",
    "        dev_summary_op = tf.summary.merge([loss_summary, acc_summary])\n",
    "        dev_summary_dir = os.path.join(out_dir, \"summaries\", \"dev\")\n",
    "        dev_summary_writer = tf.summary.FileWriter(dev_summary_dir, sess.graph)\n",
    "\n",
    "        # Checkpoint directory. Tensorflow assumes this directory already exists so we need to create it\n",
    "        checkpoint_dir = os.path.abspath(os.path.join(out_dir, \"checkpoints\"))\n",
    "        checkpoint_prefix = os.path.join(checkpoint_dir, \"model\")\n",
    "        if not os.path.exists(checkpoint_dir):\n",
    "            os.makedirs(checkpoint_dir)\n",
    "        saver = tf.train.Saver(tf.global_variables(), max_to_keep=num_checkpoints)\n",
    "\n",
    "        # Write vocabulary\n",
    "        vocab_processor.save(os.path.join(out_dir, \"vocab\"))\n",
    "\n",
    "        \n",
    "        # Initialize all variables\n",
    "        sess.run(tf.global_variables_initializer())\n",
    "\n",
    "        \n",
    "        #TRAINING STEP\n",
    "        def train_step(x_batch, y_batch,save=False):\n",
    "            feed_dict = {\n",
    "              model.input_x: x_batch,\n",
    "              model.input_y: y_batch,\n",
    "              model.dropout_keep_prob: dropout_prob\n",
    "            }\n",
    "            _, step, summaries, loss, accuracy = sess.run(\n",
    "                [train_op, global_step, train_summary_op, model.loss, model.accuracy],\n",
    "                feed_dict)\n",
    "            time_str = datetime.datetime.now().isoformat()\n",
    "            print(\"{}: step {}, loss {:g}, acc {:g}\".format(time_str, step, loss, accuracy))\n",
    "            if save:\n",
    "                train_summary_writer.add_summary(summaries, step)\n",
    "\n",
    "        #EVALUATE MODEL\n",
    "        def dev_step(x_batch, y_batch, writer=None,save=False):\n",
    "            feed_dict = {\n",
    "              model.input_x: x_batch,\n",
    "              model.input_y: y_batch,\n",
    "              model.dropout_keep_prob: 0.5\n",
    "            }\n",
    "            step, summaries, loss, accuracy,predictions = sess.run(\n",
    "                [global_step, dev_summary_op, model.loss, model.accuracy, model.predictions],\n",
    "                feed_dict)\n",
    "            time_str = datetime.datetime.now().isoformat()\n",
    "            indices = torch.max(predictions, 0)\n",
    "            jjj2.append(indices)\n",
    "            print(\"{}: step {}, loss {:g}, acc {:g}\".format(time_str, step, loss, accuracy))\n",
    "            if save:\n",
    "                if writer:\n",
    "                    writer.add_summary(summaries, step)\n",
    "\n",
    "        #CREATE THE BATCHES GENERATOR\n",
    "        batches = gen_batch(list(zip(x_train, y_train)), batch_size, num_epochs)\n",
    "        \n",
    "        #TRAIN FOR EACH BATCH\n",
    "        for batch in batches:\n",
    "            x_batch, y_batch = zip(*batch)\n",
    "            train_step(x_batch, y_batch)\n",
    "            current_step = tf.train.global_step(sess, global_step)\n",
    "            if current_step % evaluate_every == 0:\n",
    "                print(\"\\nEvaluation:\")\n",
    "                dev_step(x_dev, y_dev, writer=dev_summary_writer)\n",
    "                print(\"\")\n",
    "            if current_step % checkpoint_every == 0:\n",
    "                path = saver.save(sess, checkpoint_prefix, global_step=current_step)\n",
    "                print(\"Saved model checkpoint to {}\\n\".format(path))\n",
    "            print(wwwww)\n",
    "        dev_step(x_dev, y_dev, writer=dev_summary_writer)\n",
    "        "
   ]
  },
  {
   "cell_type": "code",
   "execution_count": 0,
   "metadata": {
    "colab": {},
    "colab_type": "code",
    "id": "SiA4lbmbnpGB"
   },
   "outputs": [],
   "source": [
    "loc_sub =  (r'C:\\Users\\Rishabh Singhal\\Desktop\\python_code\\innoplexus_hackathon\\sample_submission_i5xnIZD.csv') \n",
    "#loc_sub = (r'/content/innoplexus_hackathon/sample_submission_i5xnIZD.csv')\n",
    "df_sub = pd.read_csv (loc_sub,sep =',')\n",
    "print(df_sub.head())\n",
    "len(df_sub)"
   ]
  },
  {
   "cell_type": "code",
   "execution_count": 0,
   "metadata": {
    "colab": {},
    "colab_type": "code",
    "id": "UQQ5NCCgno61"
   },
   "outputs": [],
   "source": [
    "df_sub['sentiment']=jjj2"
   ]
  },
  {
   "cell_type": "code",
   "execution_count": 0,
   "metadata": {
    "colab": {},
    "colab_type": "code",
    "id": "_PVy3YcpnHXC"
   },
   "outputs": [],
   "source": [
    "df_sub.to_csv('submission.csv',index=False)"
   ]
  }
 ],
 "metadata": {
  "colab": {
   "name": "Rishabh_Innoplexus_hackathon.ipynb",
   "provenance": [],
   "version": "0.3.2"
  },
  "kernelspec": {
   "display_name": "Python 3",
   "language": "python",
   "name": "python3"
  },
  "language_info": {
   "codemirror_mode": {
    "name": "ipython",
    "version": 3
   },
   "file_extension": ".py",
   "mimetype": "text/x-python",
   "name": "python",
   "nbconvert_exporter": "python",
   "pygments_lexer": "ipython3",
   "version": "3.7.3"
  }
 },
 "nbformat": 4,
 "nbformat_minor": 1
}
